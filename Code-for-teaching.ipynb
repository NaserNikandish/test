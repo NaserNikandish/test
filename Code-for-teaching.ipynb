{
 "cells": [
  {
   "cell_type": "markdown",
   "metadata": {},
   "source": [
    "## numpy codes"
   ]
  },
  {
   "cell_type": "code",
   "execution_count": null,
   "metadata": {},
   "outputs": [],
   "source": [
    "import numpy as np\n",
    "a = np.array([[60,70,80],[30,40,50]]) \n",
    "b = np.array([[95,85,75],[35,45,55]]) \n",
    "c = np.array([[10,20,25],[99,98,97]])\n",
    "np.hstack((a,b)) "
   ]
  },
  {
   "cell_type": "code",
   "execution_count": 2,
   "metadata": {},
   "outputs": [
    {
     "data": {
      "text/plain": [
       "array([[60, 70, 80, 95, 85, 75, 60, 70, 80],\n",
       "       [30, 40, 50, 35, 45, 55, 30, 40, 50]])"
      ]
     },
     "execution_count": 2,
     "metadata": {},
     "output_type": "execute_result"
    }
   ],
   "source": [
    "%load_ext lab_black\n",
    "import numpy as np\n",
    "\n",
    "a = np.array([[60, 70, 80], [30, 40, 50]])\n",
    "b = np.array([[95, 85, 75], [35, 45, 55]])\n",
    "np.hstack((a, b, a))"
   ]
  },
  {
   "cell_type": "code",
   "execution_count": 1,
   "metadata": {},
   "outputs": [
    {
     "data": {
      "text/plain": [
       "4.0     63.4\n",
       "11.2    63.4\n",
       "5.0     63.4\n",
       "20.0    63.4\n",
       "dtype: float64"
      ]
     },
     "execution_count": 1,
     "metadata": {},
     "output_type": "execute_result"
    }
   ],
   "source": [
    "import pandas as pd\n",
    "test=pd.Series(63.4, [4,11.2,5,20])\n",
    "test\n"
   ]
  },
  {
   "cell_type": "code",
   "execution_count": 4,
   "metadata": {},
   "outputs": [
    {
     "data": {
      "text/plain": [
       "63.4"
      ]
     },
     "execution_count": 4,
     "metadata": {},
     "output_type": "execute_result"
    }
   ],
   "source": [
    "test[11.2]\n"
   ]
  },
  {
   "cell_type": "code",
   "execution_count": 5,
   "metadata": {},
   "outputs": [
    {
     "data": {
      "text/plain": [
       "40"
      ]
     },
     "execution_count": 5,
     "metadata": {},
     "output_type": "execute_result"
    }
   ],
   "source": [
    "test=pd.Series((30,40,50))\n",
    "test[1]"
   ]
  },
  {
   "cell_type": "code",
   "execution_count": 21,
   "metadata": {},
   "outputs": [
    {
     "data": {
      "text/plain": [
       "a    12\n",
       "dtype: int64"
      ]
     },
     "execution_count": 21,
     "metadata": {},
     "output_type": "execute_result"
    }
   ],
   "source": [
    "test = pd.Series(12, ['a'])\n",
    "test"
   ]
  },
  {
   "cell_type": "code",
   "execution_count": 42,
   "metadata": {},
   "outputs": [
    {
     "data": {
      "text/plain": [
       "(4.0     63.4\n",
       " 11.2    63.4\n",
       " 5.0     63.4\n",
       " 3.0     63.4\n",
       " dtype: float64,\n",
       " 63.4)"
      ]
     },
     "execution_count": 42,
     "metadata": {},
     "output_type": "execute_result"
    }
   ],
   "source": [
    "import pandas as pd\n",
    "test=pd.Series(63.4, [4,11.2,5,3])\n",
    "test, test[4]"
   ]
  },
  {
   "cell_type": "code",
   "execution_count": 23,
   "metadata": {},
   "outputs": [
    {
     "data": {
      "text/plain": [
       "4.0     63.4\n",
       "11.2    63.4\n",
       "5.0     63.4\n",
       "20.0    63.4\n",
       "dtype: float64"
      ]
     },
     "execution_count": 23,
     "metadata": {},
     "output_type": "execute_result"
    }
   ],
   "source": [
    "test"
   ]
  },
  {
   "cell_type": "code",
   "execution_count": 44,
   "metadata": {},
   "outputs": [
    {
     "data": {
      "text/plain": [
       "(a    12\n",
       " b    15\n",
       " c    20\n",
       " dtype: int64,\n",
       " 12)"
      ]
     },
     "execution_count": 44,
     "metadata": {},
     "output_type": "execute_result"
    }
   ],
   "source": [
    "import pandas as pd\n",
    "test = pd.Series([12, 15, 20], ['a', 'b', 'c'])\n",
    "test, test[0]"
   ]
  },
  {
   "cell_type": "code",
   "execution_count": 46,
   "metadata": {},
   "outputs": [
    {
     "data": {
      "text/plain": [
       "count      9.000000\n",
       "mean      62.222222\n",
       "std       31.850344\n",
       "min       10.000000\n",
       "25%       34.000000\n",
       "50%       75.000000\n",
       "75%       81.000000\n",
       "max      100.000000\n",
       "dtype: float64"
      ]
     },
     "execution_count": 46,
     "metadata": {},
     "output_type": "execute_result"
    }
   ],
   "source": [
    "test = pd.Series([62, 25, 10, 81, 75, 80, 93, 100, 34])\n",
    "test.describe()"
   ]
  },
  {
   "cell_type": "code",
   "execution_count": 3,
   "metadata": {},
   "outputs": [
    {
     "name": "stdout",
     "output_type": "stream",
     "text": [
      "Available kernels:\n",
      "  python3    C:\\Users\\nnikand1\\Anaconda3\\share\\jupyter\\kernels\\python3\n"
     ]
    }
   ],
   "source": [
    "!jupyter kernelspec list"
   ]
  },
  {
   "cell_type": "code",
   "execution_count": 5,
   "metadata": {},
   "outputs": [
    {
     "name": "stdin",
     "output_type": "stream",
     "text": [
      "Hi 85\n"
     ]
    },
    {
     "name": "stdout",
     "output_type": "stream",
     "text": [
      "B\n"
     ]
    }
   ],
   "source": [
    "grade = float(input(\"Hi\"))\n",
    "if grade >= 90:\n",
    "    print(\"A\")\n",
    "elif grade >= 80:\n",
    "    print(\"B\")\n",
    "elif grade >= 70:\n",
    "    print(\"C\")\n",
    "elif grade >= 60:\n",
    "    print(\"D\")\n",
    "else:\n",
    "    print(\"F\")"
   ]
  },
  {
   "cell_type": "code",
   "execution_count": 10,
   "metadata": {},
   "outputs": [
    {
     "name": "stdin",
     "output_type": "stream",
     "text": [
      "enter a valid number 2\n",
      "enter another valid number 3\n"
     ]
    },
    {
     "name": "stdout",
     "output_type": "stream",
     "text": [
      "sum of 2.0 and 3.0 is 5.0\n"
     ]
    },
    {
     "name": "stdin",
     "output_type": "stream",
     "text": [
      "Do you want to calculate sum of another two numbers? YES\n",
      "enter a valid number 3\n",
      "enter another valid number 5\n"
     ]
    },
    {
     "name": "stdout",
     "output_type": "stream",
     "text": [
      "sum of 3.0 and 5.0 is 8.0\n"
     ]
    },
    {
     "name": "stdin",
     "output_type": "stream",
     "text": [
      "Do you want to calculate sum of another two numbers? NOOOO\n"
     ]
    }
   ],
   "source": [
    "# %load_ext lab_black\n",
    "keep_going = \"yes\"\n",
    "while keep_going == \"yes\":\n",
    "    a = float(input(\"enter a valid number\"))\n",
    "    b = float(input(\"enter another valid number\"))\n",
    "    sum = a + b\n",
    "    print(\"sum of\", a, \"and\", b, \"is\", sum)\n",
    "    keep_going = input(\"Do you want to calculate sum of another two numbers?\").lower()"
   ]
  },
  {
   "cell_type": "code",
   "execution_count": null,
   "metadata": {},
   "outputs": [],
   "source": [
    "i = 2\n",
    "while i:\n",
    "    print(i)\n",
    "    "
   ]
  },
  {
   "cell_type": "code",
   "execution_count": 8,
   "metadata": {},
   "outputs": [
    {
     "name": "stdout",
     "output_type": "stream",
     "text": [
      "10 , 20 , 30 , ,\n"
     ]
    }
   ],
   "source": [
    "print(10, 20, 30, ',', sep = ' , ')\n"
   ]
  },
  {
   "cell_type": "code",
   "execution_count": 10,
   "metadata": {},
   "outputs": [
    {
     "name": "stdout",
     "output_type": "stream",
     "text": [
      "P\n",
      "y\n",
      "t\n",
      "h\n",
      "o\n",
      "n\n",
      " \n",
      "3\n",
      ".\n",
      "8\n"
     ]
    }
   ],
   "source": [
    "for item in \"Python 3.8\":\n",
    "   print(item)"
   ]
  },
  {
   "cell_type": "code",
   "execution_count": 12,
   "metadata": {},
   "outputs": [
    {
     "name": "stdout",
     "output_type": "stream",
     "text": [
      "P   y   t   h   o   n       3   .   8   "
     ]
    }
   ],
   "source": [
    "for item in \"Python 3.8\":\n",
    "   print(item, end = \"   \")"
   ]
  },
  {
   "cell_type": "code",
   "execution_count": 15,
   "metadata": {},
   "outputs": [
    {
     "name": "stdout",
     "output_type": "stream",
     "text": [
      "Counting ....\n",
      "There were 4 items\n"
     ]
    }
   ],
   "source": [
    "import time\n",
    "\n",
    "def count_items(items):\n",
    "    print('Counting ', end='', flush=True)\n",
    "    num = 0\n",
    "    for item in items:\n",
    "        num += 1\n",
    "        time.sleep(1)\n",
    "        print('.', end='', flush=True)\n",
    "\n",
    "    print(f'\\nThere were {num} items')\n",
    "    \n",
    "items = [2,3, 4,5]\n",
    "count_items(items)"
   ]
  },
  {
   "cell_type": "code",
   "execution_count": 16,
   "metadata": {},
   "outputs": [
    {
     "ename": "SyntaxError",
     "evalue": "invalid syntax (<ipython-input-16-3c834ed72f52>, line 2)",
     "output_type": "error",
     "traceback": [
      "\u001b[1;36m  File \u001b[1;32m\"<ipython-input-16-3c834ed72f52>\"\u001b[1;36m, line \u001b[1;32m2\u001b[0m\n\u001b[1;33m    i++\u001b[0m\n\u001b[1;37m       ^\u001b[0m\n\u001b[1;31mSyntaxError\u001b[0m\u001b[1;31m:\u001b[0m invalid syntax\n"
     ]
    }
   ],
   "source": [
    "i=10\n",
    "i++"
   ]
  },
  {
   "cell_type": "code",
   "execution_count": 23,
   "metadata": {},
   "outputs": [
    {
     "name": "stdout",
     "output_type": "stream",
     "text": [
      "*   *   *   *   *   *   *   *   *   *   *   *   *   *   *   \n",
      "*   *   *   *   *   *   *   *   *   *   *   *   *   *   *   \n",
      "*   *   *   *   *   *   *   *   *   *   *   *   *   *   *   \n",
      "*   *   *   *   *   *   *   *   *   *   *   *   *   *   *   \n",
      "*   *   *   *   *   *   *   *   *   *   *   *   *   *   *   \n",
      "*   *   *   *   *   *   *   *   *   *   *   *   *   *   *   \n",
      "*   *   *   *   *   *   *   *   *   *   *   *   *   *   *   \n",
      "*   *   *   *   *   *   *   *   *   *   *   *   *   *   *   \n",
      "*   *   *   *   *   *   *   *   *   *   *   *   *   *   *   \n",
      "*   *   *   *   *   *   *   *   *   *   *   *   *   *   *   \n"
     ]
    }
   ],
   "source": [
    "for i in range(10):\n",
    "   for j in range(15):\n",
    "      print('*', end = '   ')\n",
    "   print('')"
   ]
  },
  {
   "cell_type": "code",
   "execution_count": 24,
   "metadata": {},
   "outputs": [],
   "source": [
    "import pandas as pd\n",
    "test = pd.Series([62, 25, 10, 81, 75, 80, 93, 100, 34])"
   ]
  },
  {
   "cell_type": "code",
   "execution_count": 25,
   "metadata": {},
   "outputs": [
    {
     "data": {
      "text/plain": [
       "0     62\n",
       "1     25\n",
       "2     10\n",
       "3     81\n",
       "4     75\n",
       "5     80\n",
       "6     93\n",
       "7    100\n",
       "8     34\n",
       "dtype: int64"
      ]
     },
     "execution_count": 25,
     "metadata": {},
     "output_type": "execute_result"
    }
   ],
   "source": [
    "test"
   ]
  },
  {
   "cell_type": "code",
   "execution_count": 26,
   "metadata": {},
   "outputs": [],
   "source": [
    "pd.set_option('precision', 2)"
   ]
  },
  {
   "cell_type": "code",
   "execution_count": 27,
   "metadata": {},
   "outputs": [
    {
     "data": {
      "text/plain": [
       "count      9.00\n",
       "mean      62.22\n",
       "std       31.85\n",
       "min       10.00\n",
       "25%       34.00\n",
       "50%       75.00\n",
       "75%       81.00\n",
       "max      100.00\n",
       "dtype: float64"
      ]
     },
     "execution_count": 27,
     "metadata": {},
     "output_type": "execute_result"
    }
   ],
   "source": [
    "test.describe()"
   ]
  },
  {
   "cell_type": "code",
   "execution_count": null,
   "metadata": {},
   "outputs": [],
   "source": []
  }
 ],
 "metadata": {
  "kernelspec": {
   "display_name": "Python 3",
   "language": "python",
   "name": "python3"
  },
  "language_info": {
   "codemirror_mode": {
    "name": "ipython",
    "version": 3
   },
   "file_extension": ".py",
   "mimetype": "text/x-python",
   "name": "python",
   "nbconvert_exporter": "python",
   "pygments_lexer": "ipython3",
   "version": "3.8.5"
  }
 },
 "nbformat": 4,
 "nbformat_minor": 4
}
